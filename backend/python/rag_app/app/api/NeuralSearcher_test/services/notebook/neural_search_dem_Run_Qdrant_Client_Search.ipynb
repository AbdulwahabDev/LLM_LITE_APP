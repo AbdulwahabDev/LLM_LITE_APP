{
 "cells": [
  {
   "cell_type": "markdown",
   "metadata": {},
   "source": [
    "## Build the search API"
   ]
  },
  {
   "cell_type": "markdown",
   "metadata": {},
   "source": [
    "Chick if Qdrant Runing ...\n",
    "http://localhost:6333/dashboard"
   ]
  },
  {
   "cell_type": "code",
   "execution_count": 6,
   "metadata": {},
   "outputs": [
    {
     "name": "stderr",
     "output_type": "stream",
     "text": [
      "/Users/abdulwahabmac/Desktop/MyFiles/Projects/Training/Tuwaiq/LLM_lite_app/.env/lib/python3.10/site-packages/sentence_transformers/cross_encoder/CrossEncoder.py:11: TqdmExperimentalWarning: Using `tqdm.autonotebook.tqdm` in notebook mode. Use `tqdm.tqdm` instead to force console mode (e.g. in jupyter console)\n",
      "  from tqdm.autonotebook import tqdm, trange\n"
     ]
    }
   ],
   "source": [
    "from sentence_transformers import SentenceTransformer\n",
    "from tqdm import tqdm , trange\n",
    "\n",
    "\n",
    "from qdrant_client import QdrantClient \n",
    "from qdrant_client.models import Filter"
   ]
  },
  {
   "cell_type": "code",
   "execution_count": 23,
   "metadata": {},
   "outputs": [],
   "source": [
    "class NeuralSearcher:\n",
    "    def __init__(self,\n",
    "                 collection_name ,\n",
    "                 model_name_or_path:str ,\n",
    "                 QdrantClient_URL:str,\n",
    "                device:str='cpu'):\n",
    "        self.collection_name = collection_name\n",
    "        # Initialize encoder model\n",
    "        self.model = SentenceTransformer(model_name_or_path=model_name_or_path)\n",
    "        # initialize Qdrant client\n",
    "        self.qdrant_client = QdrantClient(QdrantClient_URL)\n",
    "\n",
    "    \n",
    "    def search(self,\n",
    "               text: str,\n",
    "               query_filter_list:list[dict]|None = None,\n",
    "               limit:int=5,\n",
    "               return_payloads_only:bool=True):\n",
    "        \"\"\"\n",
    "        Example of query_filter:\n",
    "        \n",
    "        test_filter = {\n",
    "            \"SearchType\":\"must\",    :str should | min_should | must | must_not\n",
    "            \"SearchType_details\",   :list[dict]\n",
    "            \"keyName\":\"\",           :str Faild Name\n",
    "            \"match_value\":\"\"        :str match value\n",
    "        }\n",
    "        \"\"\"\n",
    "\n",
    "        \n",
    "        if query_filter_list:\n",
    "            query_filter_dict = {query_filter_temp['SearchType']: [{\n",
    "                                            \"key\": query_filter_temp['keyName'], \n",
    "                                            \"match\": {\"value\": query_filter_temp['match_value']}\n",
    "                                        }] for query_filter_temp in query_filter_list }\n",
    "            query_filter_list = Filter(**query_filter_dict) \n",
    "        \n",
    "        # Convert text query into vector\n",
    "        vector = self.model.encode(text).tolist()\n",
    "        search_result = self.qdrant_client.search(\n",
    "            collection_name=self.collection_name,\n",
    "            query_vector=vector,\n",
    "            query_filter=query_filter_list,\n",
    "            limit=limit, \n",
    "        )\n",
    "        \n",
    "        if return_payloads_only:\n",
    "            # In this function you are interested in payload only\n",
    "            payloads = [hit.payload for hit in search_result]\n",
    "            return payloads\n",
    "        else:\n",
    "            return search_result\n",
    "    \n",
    "        "
   ]
  },
  {
   "cell_type": "code",
   "execution_count": 24,
   "metadata": {},
   "outputs": [],
   "source": [
    "collection_name = 'startups'\n",
    "\n",
    "NeuralSearcher_obj = NeuralSearcher(collection_name=collection_name,\n",
    "                                    model_name_or_path='all-MiniLM-L6-v2',\n",
    "                                    QdrantClient_URL=\"http://localhost:6333\")"
   ]
  },
  {
   "cell_type": "code",
   "execution_count": 25,
   "metadata": {},
   "outputs": [
    {
     "data": {
      "text/plain": [
       "[{'SearchType': 'must', 'keyName': 'name', 'match_value': 'name1'},\n",
       " {'SearchType': 'should', 'keyName': 'city', 'match_value': 'city1'}]"
      ]
     },
     "execution_count": 25,
     "metadata": {},
     "output_type": "execute_result"
    }
   ],
   "source": [
    "[\n",
    "    {\n",
    "            \"SearchType\":\"must\",    \n",
    "            \"keyName\":\"name\",           \n",
    "            \"match_value\":\"name1\"         \n",
    "    },\n",
    "    {\n",
    "            \"SearchType\":\"should\",    \n",
    "            \"keyName\":\"city\",           \n",
    "            \"match_value\":\"city1\"         \n",
    "    }]"
   ]
  },
  {
   "cell_type": "code",
   "execution_count": 27,
   "metadata": {},
   "outputs": [
    {
     "data": {
      "text/plain": [
       "[{'name': 'test',\n",
       "  'images': 'https://d1qb2nb5cznatu.cloudfront.net/startups/i/297574-7b05ad5fe396145fa53a6dd49f9a3836-thumb_jpg.jpg?buster=1384958592',\n",
       "  'alt': 'test -  test and measurement',\n",
       "  'description': 'test\\ntest',\n",
       "  'link': 'http://test',\n",
       "  'city': 'Sydney'},\n",
       " {'name': 'test',\n",
       "  'images': 'https://d1qb2nb5cznatu.cloudfront.net/startups/i/592495-9a506b0081769630d37e85d85a9ed378-thumb_jpg.jpg?buster=1422457978',\n",
       "  'alt': 'test -  health care',\n",
       "  'description': 'test\\ntest',\n",
       "  'link': 'http://test',\n",
       "  'city': 'Houston'},\n",
       " {'name': 'test-aka',\n",
       "  'images': 'https://d1qb2nb5cznatu.cloudfront.net/startups/i/440198-572e9541971ef4570960343b66944bff-thumb_jpg.jpg?buster=1405593337',\n",
       "  'alt': 'test-aka -  k 12 education',\n",
       "  'description': 'test\\nthis is just for testing',\n",
       "  'link': 'http://www.test.com',\n",
       "  'city': 'Bangalore'},\n",
       " {'name': 'Wen test',\n",
       "  'images': 'https://d1qb2nb5cznatu.cloudfront.net/startups/i/388328-8ee8c5591f8f62c64631716c87409f7d-thumb_jpg.jpg?buster=1398674872',\n",
       "  'alt': 'Wen test -  Melbourne ',\n",
       "  'description': 'wen test\\ntest',\n",
       "  'link': 'http://map.eng.unimelb.edu.au',\n",
       "  'city': 'Melbourne'},\n",
       " {'name': 'Testing Ventures',\n",
       "  'images': 'https://angel.co/images/shared/nopic_startup.png',\n",
       "  'alt': 'Testing Ventures -  test and measurement',\n",
       "  'description': 'Test Management',\n",
       "  'link': 'http://www.testing.in',\n",
       "  'city': 'New York'}]"
      ]
     },
     "execution_count": 27,
     "metadata": {},
     "output_type": "execute_result"
    }
   ],
   "source": [
    "NeuralSearcher_obj.search(text='test',query_filter_list=None)"
   ]
  },
  {
   "cell_type": "code",
   "execution_count": null,
   "metadata": {},
   "outputs": [],
   "source": []
  },
  {
   "cell_type": "code",
   "execution_count": null,
   "metadata": {},
   "outputs": [],
   "source": []
  },
  {
   "cell_type": "code",
   "execution_count": 5,
   "metadata": {},
   "outputs": [],
   "source": [
    "\n",
    "    \n",
    "city_of_interest = \"Berlin\"\n",
    "# Define a filter for cities\n",
    "city_filter = Filter(**{\n",
    "    \"must\": [{\n",
    "        \"key\": \"city\", # Store city information in a field of the same name \n",
    "        \"match\": { # This condition checks if payload field has the requested value\n",
    "            \"value\": city_of_interest\n",
    "        }\n",
    "    }]\n",
    "})"
   ]
  },
  {
   "cell_type": "code",
   "execution_count": 74,
   "metadata": {},
   "outputs": [],
   "source": []
  },
  {
   "cell_type": "code",
   "execution_count": null,
   "metadata": {},
   "outputs": [],
   "source": [
    "test_filter = qdrant_client_models.Filter(**{\n",
    "    \"must\":[\n",
    "        {\n",
    "            \"key\":FaildName\n",
    "            \"match\":{\n",
    "                \"value\":match_value\n",
    "                }\n",
    "        }\n",
    "    ]\n",
    "})\n"
   ]
  },
  {
   "cell_type": "code",
   "execution_count": null,
   "metadata": {},
   "outputs": [],
   "source": [
    "test_filter = qdrant_client_models.Filter(must=[\n",
    "    qdrant_client_models.FieldCondition(\n",
    "                key=\"name\", \n",
    "                match=qdrant_client_models.MatchValue(value='TwentyFour6')\n",
    "            )\n",
    "])\n"
   ]
  },
  {
   "cell_type": "code",
   "execution_count": null,
   "metadata": {},
   "outputs": [],
   "source": [
    "{\n",
    "    \"must\": [{\n",
    "        \"key\": \"city\", # Store city information in a field of the same name \n",
    "        \"match\": { # This condition checks if payload field has the requested value\n",
    "            \"value\": city_of_interest\n",
    "        }\n",
    "    }]\n",
    "}"
   ]
  },
  {
   "cell_type": "code",
   "execution_count": 30,
   "metadata": {},
   "outputs": [],
   "source": [
    "collection_name = 'startups'\n",
    "\n",
    "NeuralSearcher_obj = NeuralSearcher(collection_name=collection_name,\n",
    "                                    model_name_or_path='all-MiniLM-L6-v2',\n",
    "                                    QdrantClient_URL=\"http://localhost:6333\")"
   ]
  },
  {
   "cell_type": "code",
   "execution_count": 31,
   "metadata": {},
   "outputs": [
    {
     "data": {
      "text/plain": [
       "<__main__.NeuralSearcher at 0x148306980>"
      ]
     },
     "execution_count": 31,
     "metadata": {},
     "output_type": "execute_result"
    }
   ],
   "source": [
    "NeuralSearcher_obj"
   ]
  },
  {
   "cell_type": "code",
   "execution_count": 44,
   "metadata": {},
   "outputs": [],
   "source": []
  },
  {
   "cell_type": "code",
   "execution_count": 43,
   "metadata": {},
   "outputs": [
    {
     "data": {
      "text/plain": [
       "False"
      ]
     },
     "execution_count": 43,
     "metadata": {},
     "output_type": "execute_result"
    }
   ],
   "source": [
    "type(qdrant_client_models.Filter) == 'pydantic._internal._model_construction.ModelMetaclass'"
   ]
  },
  {
   "cell_type": "code",
   "execution_count": null,
   "metadata": {},
   "outputs": [],
   "source": [
    "qdrant_client_models."
   ]
  },
  {
   "cell_type": "code",
   "execution_count": 64,
   "metadata": {},
   "outputs": [],
   "source": []
  },
  {
   "cell_type": "code",
   "execution_count": 70,
   "metadata": {},
   "outputs": [
    {
     "data": {
      "text/plain": [
       "[{'name': 'LivingHealthy',\n",
       "  'images': 'https://d1qb2nb5cznatu.cloudfront.net/startups/i/547073-a10728196e57d3b6ccf7652457c1f7ea-thumb_jpg.jpg?buster=1417450702',\n",
       "  'alt': 'LivingHealthy -  personal health health and wellness mobile health',\n",
       "  'description': 'Good Health Made Simple\\nLiving Healthy, LLC (“LivingHealthy” or the “Company”) is a digital media company with integrated web, mobile, and email newsletter offerings that creates, curates and delivers premium content which educates, empowers, and shares knowledge of how to live a healthier ...',\n",
       "  'link': 'http://www.livinghealthy.com',\n",
       "  'city': 'Los Angeles'},\n",
       " {'name': 'HealthiNation',\n",
       "  'images': 'https://d1qb2nb5cznatu.cloudfront.net/startups/i/57203-6ce970febe394a2d5241a0f9eb1fdd55-thumb_jpg.jpg?buster=1406245488',\n",
       "  'alt': 'HealthiNation -  video fitness health and wellness lifestyle',\n",
       "  'description': '',\n",
       "  'link': 'http://www.healthination.com/',\n",
       "  'city': 'New York'},\n",
       " {'name': 'sherpaa',\n",
       "  'images': 'https://d1qb2nb5cznatu.cloudfront.net/startups/i/132974-d079b3ea43fbeadfadbec3fce0f819c6-thumb_jpg.jpg?buster=1407282778',\n",
       "  'alt': 'sherpaa -  health and wellness',\n",
       "  'description': '',\n",
       "  'link': 'http://sherpaa.com',\n",
       "  'city': 'New York'}]"
      ]
     },
     "execution_count": 70,
     "metadata": {},
     "output_type": "execute_result"
    }
   ],
   "source": [
    "NeuralSearcher_obj.search(text='health',limit=3,return_payloads_only=True,query_filter=None)"
   ]
  },
  {
   "cell_type": "code",
   "execution_count": null,
   "metadata": {},
   "outputs": [],
   "source": []
  },
  {
   "cell_type": "code",
   "execution_count": null,
   "metadata": {},
   "outputs": [],
   "source": []
  },
  {
   "cell_type": "code",
   "execution_count": 28,
   "metadata": {},
   "outputs": [
    {
     "ename": "ValidationError",
     "evalue": "1 validation error for Filter\nquery\n  Extra inputs are not permitted [type=extra_forbidden, input_value={'wildcard': {'city': 'ca'}}, input_type=dict]\n    For further information visit https://errors.pydantic.dev/2.8/v/extra_forbidden",
     "output_type": "error",
     "traceback": [
      "\u001b[0;31m---------------------------------------------------------------------------\u001b[0m",
      "\u001b[0;31mValidationError\u001b[0m                           Traceback (most recent call last)",
      "Cell \u001b[0;32mIn[28], line 1\u001b[0m\n\u001b[0;32m----> 1\u001b[0m \u001b[43mNeuralSearcher_obj\u001b[49m\u001b[38;5;241;43m.\u001b[39;49m\u001b[43msearch\u001b[49m\u001b[43m(\u001b[49m\u001b[43mtext\u001b[49m\u001b[38;5;241;43m=\u001b[39;49m\u001b[38;5;124;43m'\u001b[39;49m\u001b[38;5;124;43mCOVID-19\u001b[39;49m\u001b[38;5;124;43m'\u001b[39;49m\u001b[43m,\u001b[49m\u001b[43mlimit\u001b[49m\u001b[38;5;241;43m=\u001b[39;49m\u001b[38;5;241;43m10\u001b[39;49m\u001b[43m,\u001b[49m\u001b[43mreturn_payloads_only\u001b[49m\u001b[38;5;241;43m=\u001b[39;49m\u001b[38;5;28;43;01mTrue\u001b[39;49;00m\u001b[43m,\u001b[49m\u001b[43mquery_filter\u001b[49m\u001b[38;5;241;43m=\u001b[39;49m\u001b[43mtest_filter\u001b[49m\u001b[43m)\u001b[49m\n",
      "Cell \u001b[0;32mIn[22], line 25\u001b[0m, in \u001b[0;36mNeuralSearcher.search\u001b[0;34m(self, text, query_filter, limit, return_payloads_only)\u001b[0m\n\u001b[1;32m     14\u001b[0m \u001b[38;5;28;01mdef\u001b[39;00m \u001b[38;5;21msearch\u001b[39m(\u001b[38;5;28mself\u001b[39m,\n\u001b[1;32m     15\u001b[0m            text: \u001b[38;5;28mstr\u001b[39m,\n\u001b[1;32m     16\u001b[0m            query_filter:\u001b[38;5;28mdict\u001b[39m\u001b[38;5;241m=\u001b[39m\u001b[38;5;28;01mNone\u001b[39;00m,\n\u001b[0;32m   (...)\u001b[0m\n\u001b[1;32m     19\u001b[0m     \n\u001b[1;32m     20\u001b[0m     \u001b[38;5;66;03m# Convert text query into vector\u001b[39;00m\n\u001b[1;32m     21\u001b[0m     vector \u001b[38;5;241m=\u001b[39m \u001b[38;5;28mself\u001b[39m\u001b[38;5;241m.\u001b[39mmodel\u001b[38;5;241m.\u001b[39mencode(text)\u001b[38;5;241m.\u001b[39mtolist()\n\u001b[1;32m     22\u001b[0m     search_result \u001b[38;5;241m=\u001b[39m \u001b[38;5;28mself\u001b[39m\u001b[38;5;241m.\u001b[39mqdrant_client\u001b[38;5;241m.\u001b[39msearch(\n\u001b[1;32m     23\u001b[0m         collection_name\u001b[38;5;241m=\u001b[39m\u001b[38;5;28mself\u001b[39m\u001b[38;5;241m.\u001b[39mcollection_name,\n\u001b[1;32m     24\u001b[0m         query_vector\u001b[38;5;241m=\u001b[39mvector,\n\u001b[0;32m---> 25\u001b[0m         query_filter\u001b[38;5;241m=\u001b[39m\u001b[43mFilter\u001b[49m\u001b[43m(\u001b[49m\u001b[38;5;241;43m*\u001b[39;49m\u001b[38;5;241;43m*\u001b[39;49m\u001b[43mquery_filter\u001b[49m\u001b[43m)\u001b[49m \u001b[38;5;28;01mif\u001b[39;00m query_filter \u001b[38;5;28;01melse\u001b[39;00m \u001b[38;5;28;01mNone\u001b[39;00m,\n\u001b[1;32m     26\u001b[0m         limit\u001b[38;5;241m=\u001b[39mlimit, \n\u001b[1;32m     27\u001b[0m     )\n\u001b[1;32m     28\u001b[0m     \u001b[38;5;66;03m# `search_result` contains found vector ids with similarity scores along with the stored payload\u001b[39;00m\n\u001b[1;32m     29\u001b[0m     \u001b[38;5;28;01mif\u001b[39;00m return_payloads_only:\n\u001b[1;32m     30\u001b[0m         \u001b[38;5;66;03m# In this function you are interested in payload only\u001b[39;00m\n",
      "File \u001b[0;32m~/Desktop/MyFiles/Projects/Training/Tuwaiq/LLM_lite_app/.env/lib/python3.10/site-packages/pydantic/main.py:193\u001b[0m, in \u001b[0;36mBaseModel.__init__\u001b[0;34m(self, **data)\u001b[0m\n\u001b[1;32m    191\u001b[0m \u001b[38;5;66;03m# `__tracebackhide__` tells pytest and some other tools to omit this function from tracebacks\u001b[39;00m\n\u001b[1;32m    192\u001b[0m __tracebackhide__ \u001b[38;5;241m=\u001b[39m \u001b[38;5;28;01mTrue\u001b[39;00m\n\u001b[0;32m--> 193\u001b[0m \u001b[38;5;28;43mself\u001b[39;49m\u001b[38;5;241;43m.\u001b[39;49m\u001b[43m__pydantic_validator__\u001b[49m\u001b[38;5;241;43m.\u001b[39;49m\u001b[43mvalidate_python\u001b[49m\u001b[43m(\u001b[49m\u001b[43mdata\u001b[49m\u001b[43m,\u001b[49m\u001b[43m \u001b[49m\u001b[43mself_instance\u001b[49m\u001b[38;5;241;43m=\u001b[39;49m\u001b[38;5;28;43mself\u001b[39;49m\u001b[43m)\u001b[49m\n",
      "\u001b[0;31mValidationError\u001b[0m: 1 validation error for Filter\nquery\n  Extra inputs are not permitted [type=extra_forbidden, input_value={'wildcard': {'city': 'ca'}}, input_type=dict]\n    For further information visit https://errors.pydantic.dev/2.8/v/extra_forbidden"
     ]
    }
   ],
   "source": [
    "NeuralSearcher_obj.search(text='COVID-19',limit=10,return_payloads_only=True,query_filter=test_filter)"
   ]
  },
  {
   "cell_type": "code",
   "execution_count": null,
   "metadata": {},
   "outputs": [],
   "source": []
  },
  {
   "cell_type": "code",
   "execution_count": null,
   "metadata": {},
   "outputs": [],
   "source": []
  },
  {
   "cell_type": "code",
   "execution_count": null,
   "metadata": {},
   "outputs": [],
   "source": []
  }
 ],
 "metadata": {
  "kernelspec": {
   "display_name": "Python 3 (ipykernel)",
   "language": "python",
   "name": "python3"
  },
  "language_info": {
   "codemirror_mode": {
    "name": "ipython",
    "version": 3
   },
   "file_extension": ".py",
   "mimetype": "text/x-python",
   "name": "python",
   "nbconvert_exporter": "python",
   "pygments_lexer": "ipython3",
   "version": "3.10.13"
  }
 },
 "nbformat": 4,
 "nbformat_minor": 4
}
